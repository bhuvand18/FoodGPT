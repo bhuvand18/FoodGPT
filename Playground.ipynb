{
 "cells": [
  {
   "cell_type": "markdown",
   "id": "55b6910e-350e-4980-9660-c9bba29e0160",
   "metadata": {},
   "source": [
    "# Dataset"
   ]
  },
  {
   "cell_type": "code",
   "execution_count": 12,
   "id": "81a6061b-c26f-4b69-a749-402b1ff7bb62",
   "metadata": {},
   "outputs": [],
   "source": [
    "import pandas as pd"
   ]
  },
  {
   "cell_type": "code",
   "execution_count": 13,
   "id": "191443e9-3439-4413-8faa-c838fbc56237",
   "metadata": {},
   "outputs": [],
   "source": [
    "dataset = pd.read_csv(\"D:\\Qriocity\\FoodGPT\\Dataset\\Reviews.csv\")"
   ]
  },
  {
   "cell_type": "code",
   "execution_count": 14,
   "id": "825f9566-a938-421d-90a6-642d9c8c42c3",
   "metadata": {},
   "outputs": [
    {
     "data": {
      "text/html": [
       "<div>\n",
       "<style scoped>\n",
       "    .dataframe tbody tr th:only-of-type {\n",
       "        vertical-align: middle;\n",
       "    }\n",
       "\n",
       "    .dataframe tbody tr th {\n",
       "        vertical-align: top;\n",
       "    }\n",
       "\n",
       "    .dataframe thead th {\n",
       "        text-align: right;\n",
       "    }\n",
       "</style>\n",
       "<table border=\"1\" class=\"dataframe\">\n",
       "  <thead>\n",
       "    <tr style=\"text-align: right;\">\n",
       "      <th></th>\n",
       "      <th>Id</th>\n",
       "      <th>ProductId</th>\n",
       "      <th>UserId</th>\n",
       "      <th>ProfileName</th>\n",
       "      <th>HelpfulnessNumerator</th>\n",
       "      <th>HelpfulnessDenominator</th>\n",
       "      <th>Score</th>\n",
       "      <th>Time</th>\n",
       "      <th>Summary</th>\n",
       "      <th>Text</th>\n",
       "    </tr>\n",
       "  </thead>\n",
       "  <tbody>\n",
       "    <tr>\n",
       "      <th>0</th>\n",
       "      <td>1</td>\n",
       "      <td>B001E4KFG0</td>\n",
       "      <td>A3SGXH7AUHU8GW</td>\n",
       "      <td>delmartian</td>\n",
       "      <td>1</td>\n",
       "      <td>1</td>\n",
       "      <td>5</td>\n",
       "      <td>1303862400</td>\n",
       "      <td>Good Quality Dog Food</td>\n",
       "      <td>I have bought several of the Vitality canned d...</td>\n",
       "    </tr>\n",
       "    <tr>\n",
       "      <th>1</th>\n",
       "      <td>2</td>\n",
       "      <td>B00813GRG4</td>\n",
       "      <td>A1D87F6ZCVE5NK</td>\n",
       "      <td>dll pa</td>\n",
       "      <td>0</td>\n",
       "      <td>0</td>\n",
       "      <td>1</td>\n",
       "      <td>1346976000</td>\n",
       "      <td>Not as Advertised</td>\n",
       "      <td>Product arrived labeled as Jumbo Salted Peanut...</td>\n",
       "    </tr>\n",
       "    <tr>\n",
       "      <th>2</th>\n",
       "      <td>3</td>\n",
       "      <td>B000LQOCH0</td>\n",
       "      <td>ABXLMWJIXXAIN</td>\n",
       "      <td>Natalia Corres \"Natalia Corres\"</td>\n",
       "      <td>1</td>\n",
       "      <td>1</td>\n",
       "      <td>4</td>\n",
       "      <td>1219017600</td>\n",
       "      <td>\"Delight\" says it all</td>\n",
       "      <td>This is a confection that has been around a fe...</td>\n",
       "    </tr>\n",
       "    <tr>\n",
       "      <th>3</th>\n",
       "      <td>4</td>\n",
       "      <td>B000UA0QIQ</td>\n",
       "      <td>A395BORC6FGVXV</td>\n",
       "      <td>Karl</td>\n",
       "      <td>3</td>\n",
       "      <td>3</td>\n",
       "      <td>2</td>\n",
       "      <td>1307923200</td>\n",
       "      <td>Cough Medicine</td>\n",
       "      <td>If you are looking for the secret ingredient i...</td>\n",
       "    </tr>\n",
       "    <tr>\n",
       "      <th>4</th>\n",
       "      <td>5</td>\n",
       "      <td>B006K2ZZ7K</td>\n",
       "      <td>A1UQRSCLF8GW1T</td>\n",
       "      <td>Michael D. Bigham \"M. Wassir\"</td>\n",
       "      <td>0</td>\n",
       "      <td>0</td>\n",
       "      <td>5</td>\n",
       "      <td>1350777600</td>\n",
       "      <td>Great taffy</td>\n",
       "      <td>Great taffy at a great price.  There was a wid...</td>\n",
       "    </tr>\n",
       "  </tbody>\n",
       "</table>\n",
       "</div>"
      ],
      "text/plain": [
       "   Id   ProductId          UserId                      ProfileName  \\\n",
       "0   1  B001E4KFG0  A3SGXH7AUHU8GW                       delmartian   \n",
       "1   2  B00813GRG4  A1D87F6ZCVE5NK                           dll pa   \n",
       "2   3  B000LQOCH0   ABXLMWJIXXAIN  Natalia Corres \"Natalia Corres\"   \n",
       "3   4  B000UA0QIQ  A395BORC6FGVXV                             Karl   \n",
       "4   5  B006K2ZZ7K  A1UQRSCLF8GW1T    Michael D. Bigham \"M. Wassir\"   \n",
       "\n",
       "   HelpfulnessNumerator  HelpfulnessDenominator  Score        Time  \\\n",
       "0                     1                       1      5  1303862400   \n",
       "1                     0                       0      1  1346976000   \n",
       "2                     1                       1      4  1219017600   \n",
       "3                     3                       3      2  1307923200   \n",
       "4                     0                       0      5  1350777600   \n",
       "\n",
       "                 Summary                                               Text  \n",
       "0  Good Quality Dog Food  I have bought several of the Vitality canned d...  \n",
       "1      Not as Advertised  Product arrived labeled as Jumbo Salted Peanut...  \n",
       "2  \"Delight\" says it all  This is a confection that has been around a fe...  \n",
       "3         Cough Medicine  If you are looking for the secret ingredient i...  \n",
       "4            Great taffy  Great taffy at a great price.  There was a wid...  "
      ]
     },
     "execution_count": 14,
     "metadata": {},
     "output_type": "execute_result"
    }
   ],
   "source": [
    "dataset.head()"
   ]
  },
  {
   "cell_type": "code",
   "execution_count": 15,
   "id": "bdb3937e-14e4-408a-a136-ee758d5f2079",
   "metadata": {},
   "outputs": [],
   "source": [
    "columns_to_drop = ['Id', 'ProductId', 'UserId' , 'ProfileName' , 'HelpfulnessNumerator', 'HelpfulnessDenominator' , 'Time']"
   ]
  },
  {
   "cell_type": "code",
   "execution_count": 16,
   "id": "5b428ae0-8ddf-43f8-8994-6cf6aec603eb",
   "metadata": {},
   "outputs": [],
   "source": [
    "df = dataset.drop(columns=columns_to_drop)"
   ]
  },
  {
   "cell_type": "code",
   "execution_count": 17,
   "id": "50384ef6-6f34-4473-883d-84c307cd203f",
   "metadata": {},
   "outputs": [
    {
     "data": {
      "text/html": [
       "<div>\n",
       "<style scoped>\n",
       "    .dataframe tbody tr th:only-of-type {\n",
       "        vertical-align: middle;\n",
       "    }\n",
       "\n",
       "    .dataframe tbody tr th {\n",
       "        vertical-align: top;\n",
       "    }\n",
       "\n",
       "    .dataframe thead th {\n",
       "        text-align: right;\n",
       "    }\n",
       "</style>\n",
       "<table border=\"1\" class=\"dataframe\">\n",
       "  <thead>\n",
       "    <tr style=\"text-align: right;\">\n",
       "      <th></th>\n",
       "      <th>Score</th>\n",
       "      <th>Summary</th>\n",
       "      <th>Text</th>\n",
       "    </tr>\n",
       "  </thead>\n",
       "  <tbody>\n",
       "    <tr>\n",
       "      <th>0</th>\n",
       "      <td>5</td>\n",
       "      <td>Good Quality Dog Food</td>\n",
       "      <td>I have bought several of the Vitality canned d...</td>\n",
       "    </tr>\n",
       "    <tr>\n",
       "      <th>1</th>\n",
       "      <td>1</td>\n",
       "      <td>Not as Advertised</td>\n",
       "      <td>Product arrived labeled as Jumbo Salted Peanut...</td>\n",
       "    </tr>\n",
       "    <tr>\n",
       "      <th>2</th>\n",
       "      <td>4</td>\n",
       "      <td>\"Delight\" says it all</td>\n",
       "      <td>This is a confection that has been around a fe...</td>\n",
       "    </tr>\n",
       "    <tr>\n",
       "      <th>3</th>\n",
       "      <td>2</td>\n",
       "      <td>Cough Medicine</td>\n",
       "      <td>If you are looking for the secret ingredient i...</td>\n",
       "    </tr>\n",
       "    <tr>\n",
       "      <th>4</th>\n",
       "      <td>5</td>\n",
       "      <td>Great taffy</td>\n",
       "      <td>Great taffy at a great price.  There was a wid...</td>\n",
       "    </tr>\n",
       "  </tbody>\n",
       "</table>\n",
       "</div>"
      ],
      "text/plain": [
       "   Score                Summary  \\\n",
       "0      5  Good Quality Dog Food   \n",
       "1      1      Not as Advertised   \n",
       "2      4  \"Delight\" says it all   \n",
       "3      2         Cough Medicine   \n",
       "4      5            Great taffy   \n",
       "\n",
       "                                                Text  \n",
       "0  I have bought several of the Vitality canned d...  \n",
       "1  Product arrived labeled as Jumbo Salted Peanut...  \n",
       "2  This is a confection that has been around a fe...  \n",
       "3  If you are looking for the secret ingredient i...  \n",
       "4  Great taffy at a great price.  There was a wid...  "
      ]
     },
     "execution_count": 17,
     "metadata": {},
     "output_type": "execute_result"
    }
   ],
   "source": [
    "df.head()"
   ]
  },
  {
   "cell_type": "code",
   "execution_count": 18,
   "id": "b2926875-7b09-4a26-9bef-a8cc9bffa3cc",
   "metadata": {},
   "outputs": [
    {
     "data": {
      "text/html": [
       "<div>\n",
       "<style scoped>\n",
       "    .dataframe tbody tr th:only-of-type {\n",
       "        vertical-align: middle;\n",
       "    }\n",
       "\n",
       "    .dataframe tbody tr th {\n",
       "        vertical-align: top;\n",
       "    }\n",
       "\n",
       "    .dataframe thead th {\n",
       "        text-align: right;\n",
       "    }\n",
       "</style>\n",
       "<table border=\"1\" class=\"dataframe\">\n",
       "  <thead>\n",
       "    <tr style=\"text-align: right;\">\n",
       "      <th></th>\n",
       "      <th>Score</th>\n",
       "      <th>Summary</th>\n",
       "      <th>Text</th>\n",
       "      <th>Sentiment</th>\n",
       "    </tr>\n",
       "  </thead>\n",
       "  <tbody>\n",
       "    <tr>\n",
       "      <th>0</th>\n",
       "      <td>5</td>\n",
       "      <td>Good Quality Dog Food</td>\n",
       "      <td>I have bought several of the Vitality canned d...</td>\n",
       "      <td>Positive</td>\n",
       "    </tr>\n",
       "    <tr>\n",
       "      <th>1</th>\n",
       "      <td>1</td>\n",
       "      <td>Not as Advertised</td>\n",
       "      <td>Product arrived labeled as Jumbo Salted Peanut...</td>\n",
       "      <td>Negative</td>\n",
       "    </tr>\n",
       "    <tr>\n",
       "      <th>2</th>\n",
       "      <td>4</td>\n",
       "      <td>\"Delight\" says it all</td>\n",
       "      <td>This is a confection that has been around a fe...</td>\n",
       "      <td>Positive</td>\n",
       "    </tr>\n",
       "    <tr>\n",
       "      <th>3</th>\n",
       "      <td>2</td>\n",
       "      <td>Cough Medicine</td>\n",
       "      <td>If you are looking for the secret ingredient i...</td>\n",
       "      <td>Negative</td>\n",
       "    </tr>\n",
       "    <tr>\n",
       "      <th>4</th>\n",
       "      <td>5</td>\n",
       "      <td>Great taffy</td>\n",
       "      <td>Great taffy at a great price.  There was a wid...</td>\n",
       "      <td>Positive</td>\n",
       "    </tr>\n",
       "  </tbody>\n",
       "</table>\n",
       "</div>"
      ],
      "text/plain": [
       "   Score                Summary  \\\n",
       "0      5  Good Quality Dog Food   \n",
       "1      1      Not as Advertised   \n",
       "2      4  \"Delight\" says it all   \n",
       "3      2         Cough Medicine   \n",
       "4      5            Great taffy   \n",
       "\n",
       "                                                Text Sentiment  \n",
       "0  I have bought several of the Vitality canned d...  Positive  \n",
       "1  Product arrived labeled as Jumbo Salted Peanut...  Negative  \n",
       "2  This is a confection that has been around a fe...  Positive  \n",
       "3  If you are looking for the secret ingredient i...  Negative  \n",
       "4  Great taffy at a great price.  There was a wid...  Positive  "
      ]
     },
     "execution_count": 18,
     "metadata": {},
     "output_type": "execute_result"
    }
   ],
   "source": [
    "import pandas as pd\n",
    "\n",
    "\n",
    "# Create a new column 'Sentiment' based on review scores\n",
    "df['Sentiment'] = df['Score'].apply(lambda score: 'Positive' if score > 3 else ('Neutral' if score == 3 else 'Negative'))\n",
    "\n",
    "# Save the updated dataset with the sentiment column\n",
    "df.head()\n",
    "\n"
   ]
  },
  {
   "cell_type": "code",
   "execution_count": 20,
   "id": "86653a7f-961a-4542-8cee-38137125bc64",
   "metadata": {},
   "outputs": [
    {
     "name": "stdout",
     "output_type": "stream",
     "text": [
      "Sentiment Counts:\n",
      "Sentiment\n",
      "Positive    443777\n",
      "Negative     82037\n",
      "Neutral      42640\n",
      "Name: count, dtype: int64\n"
     ]
    }
   ],
   "source": [
    "# Count the occurrences of each sentiment\n",
    "sentiment_counts = df['Sentiment'].value_counts()\n",
    "\n",
    "# Print the counts\n",
    "print(\"Sentiment Counts:\")\n",
    "print(sentiment_counts)"
   ]
  },
  {
   "cell_type": "code",
   "execution_count": 23,
   "id": "68638423-a636-47d9-b4ab-b4cd941b1187",
   "metadata": {},
   "outputs": [],
   "source": [
    "import pandas as pd\n",
    "from sklearn.model_selection import train_test_split\n",
    "from sklearn.feature_extraction.text import TfidfVectorizer\n",
    "from sklearn.ensemble import RandomForestClassifier\n",
    "from sklearn.metrics import classification_report\n",
    "# Feature extraction\n",
    "tfidf_vectorizer = TfidfVectorizer(max_features=1000, stop_words='english')\n",
    "X = tfidf_vectorizer.fit_transform(df['Text'])\n",
    "y = df['Sentiment']"
   ]
  },
  {
   "cell_type": "code",
   "execution_count": 24,
   "id": "da0bead1-5526-4d18-9bfb-8ab11efcf19a",
   "metadata": {},
   "outputs": [],
   "source": [
    "# Splitting the dataset into training and testing sets\n",
    "X_train, X_test, y_train, y_test = train_test_split(X, y, test_size=0.2, random_state=42)"
   ]
  },
  {
   "cell_type": "code",
   "execution_count": 25,
   "id": "307db9c5-18dc-4898-8b84-846e66245a57",
   "metadata": {},
   "outputs": [
    {
     "name": "stdout",
     "output_type": "stream",
     "text": [
      "Random Forest Classifier Report:\n",
      "              precision    recall  f1-score   support\n",
      "\n",
      "    Negative       0.88      0.63      0.73     16181\n",
      "     Neutral       0.97      0.39      0.56      8485\n",
      "    Positive       0.89      0.99      0.94     89025\n",
      "\n",
      "    accuracy                           0.89    113691\n",
      "   macro avg       0.91      0.67      0.74    113691\n",
      "weighted avg       0.90      0.89      0.88    113691\n",
      "\n"
     ]
    }
   ],
   "source": [
    "# Training the Random Forest classifier\n",
    "rf_classifier = RandomForestClassifier(n_estimators=100, random_state=42)\n",
    "rf_classifier.fit(X_train, y_train)\n",
    "\n",
    "# Evaluating the classifier\n",
    "y_pred = rf_classifier.predict(X_test)\n",
    "print(\"Random Forest Classifier Report:\")\n",
    "print(classification_report(y_test, y_pred))"
   ]
  },
  {
   "cell_type": "code",
   "execution_count": 26,
   "id": "0eb32c3d-0fca-49bd-8fc9-ba742fd2dbe3",
   "metadata": {},
   "outputs": [
    {
     "data": {
      "text/plain": [
       "['random_forest_classifier.joblib']"
      ]
     },
     "execution_count": 26,
     "metadata": {},
     "output_type": "execute_result"
    }
   ],
   "source": [
    "from joblib import dump\n",
    "\n",
    "# Save the trained model to a file\n",
    "dump(rf_classifier, 'random_forest_classifier.joblib')\n"
   ]
  },
  {
   "cell_type": "code",
   "execution_count": 32,
   "id": "a55a0f99-6ae3-4b4f-99ac-35c0b62a8a10",
   "metadata": {},
   "outputs": [
    {
     "name": "stdout",
     "output_type": "stream",
     "text": [
      "Collecting mlxtend\n",
      "  Using cached mlxtend-0.23.1-py3-none-any.whl.metadata (7.3 kB)\n",
      "Requirement already satisfied: scipy>=1.2.1 in c:\\users\\shubh\\anaconda3\\envs\\ns\\lib\\site-packages (from mlxtend) (1.12.0)\n",
      "Requirement already satisfied: numpy>=1.16.2 in c:\\users\\shubh\\anaconda3\\envs\\ns\\lib\\site-packages (from mlxtend) (1.26.4)\n",
      "Requirement already satisfied: pandas>=0.24.2 in c:\\users\\shubh\\anaconda3\\envs\\ns\\lib\\site-packages (from mlxtend) (2.2.1)\n",
      "Requirement already satisfied: scikit-learn>=1.0.2 in c:\\users\\shubh\\anaconda3\\envs\\ns\\lib\\site-packages (from mlxtend) (1.4.1.post1)\n",
      "Requirement already satisfied: matplotlib>=3.0.0 in c:\\users\\shubh\\anaconda3\\envs\\ns\\lib\\site-packages (from mlxtend) (3.8.3)\n",
      "Requirement already satisfied: joblib>=0.13.2 in c:\\users\\shubh\\anaconda3\\envs\\ns\\lib\\site-packages (from mlxtend) (1.3.2)\n",
      "Requirement already satisfied: contourpy>=1.0.1 in c:\\users\\shubh\\anaconda3\\envs\\ns\\lib\\site-packages (from matplotlib>=3.0.0->mlxtend) (1.2.0)\n",
      "Requirement already satisfied: cycler>=0.10 in c:\\users\\shubh\\anaconda3\\envs\\ns\\lib\\site-packages (from matplotlib>=3.0.0->mlxtend) (0.10.0)\n",
      "Requirement already satisfied: fonttools>=4.22.0 in c:\\users\\shubh\\anaconda3\\envs\\ns\\lib\\site-packages (from matplotlib>=3.0.0->mlxtend) (4.49.0)\n",
      "Requirement already satisfied: kiwisolver>=1.3.1 in c:\\users\\shubh\\anaconda3\\envs\\ns\\lib\\site-packages (from matplotlib>=3.0.0->mlxtend) (1.4.5)\n",
      "Requirement already satisfied: packaging>=20.0 in c:\\users\\shubh\\anaconda3\\envs\\ns\\lib\\site-packages (from matplotlib>=3.0.0->mlxtend) (23.2)\n",
      "Requirement already satisfied: pillow>=8 in c:\\users\\shubh\\anaconda3\\envs\\ns\\lib\\site-packages (from matplotlib>=3.0.0->mlxtend) (10.2.0)\n",
      "Requirement already satisfied: pyparsing>=2.3.1 in c:\\users\\shubh\\anaconda3\\envs\\ns\\lib\\site-packages (from matplotlib>=3.0.0->mlxtend) (3.1.1)\n",
      "Requirement already satisfied: python-dateutil>=2.7 in c:\\users\\shubh\\anaconda3\\envs\\ns\\lib\\site-packages (from matplotlib>=3.0.0->mlxtend) (2.9.0.post0)\n",
      "Requirement already satisfied: pytz>=2020.1 in c:\\users\\shubh\\anaconda3\\envs\\ns\\lib\\site-packages (from pandas>=0.24.2->mlxtend) (2024.1)\n",
      "Requirement already satisfied: tzdata>=2022.7 in c:\\users\\shubh\\anaconda3\\envs\\ns\\lib\\site-packages (from pandas>=0.24.2->mlxtend) (2024.1)\n",
      "Requirement already satisfied: threadpoolctl>=2.0.0 in c:\\users\\shubh\\anaconda3\\envs\\ns\\lib\\site-packages (from scikit-learn>=1.0.2->mlxtend) (3.3.0)\n",
      "Requirement already satisfied: six in c:\\users\\shubh\\anaconda3\\envs\\ns\\lib\\site-packages (from cycler>=0.10->matplotlib>=3.0.0->mlxtend) (1.16.0)\n",
      "Using cached mlxtend-0.23.1-py3-none-any.whl (1.4 MB)\n",
      "Installing collected packages: mlxtend\n",
      "Successfully installed mlxtend-0.23.1\n"
     ]
    }
   ],
   "source": [
    "!pip install mlxtend"
   ]
  },
  {
   "cell_type": "code",
   "execution_count": 34,
   "id": "89d96809-3676-4475-9ac3-d45e08633e32",
   "metadata": {},
   "outputs": [
    {
     "name": "stdout",
     "output_type": "stream",
     "text": [
      "Accuracy: 0.8948377620040284\n",
      "Classification Report:\n",
      "              precision    recall  f1-score   support\n",
      "\n",
      "    Negative       0.88      0.63      0.73     16181\n",
      "     Neutral       0.97      0.39      0.56      8485\n",
      "    Positive       0.89      0.99      0.94     89025\n",
      "\n",
      "    accuracy                           0.89    113691\n",
      "   macro avg       0.91      0.67      0.74    113691\n",
      "weighted avg       0.90      0.89      0.88    113691\n",
      "\n"
     ]
    },
    {
     "data": {
      "image/png": "[encoded data removed]",
      "text/plain": [
       "<Figure size 800x600 with 1 Axes>"
      ]
     },
     "metadata": {},
     "output_type": "display_data"
    }
   ],
   "source": [
    "from sklearn.metrics import classification_report, confusion_matrix, roc_curve, auc\n",
    "from mlxtend.plotting import plot_confusion_matrix\n",
    "\n",
    "# Accuracy\n",
    "accuracy = accuracy_score(y_test, y_pred)\n",
    "print(\"Accuracy:\", accuracy)\n",
    "\n",
    "# Other metrics\n",
    "report = classification_report(y_test, y_pred)\n",
    "print(\"Classification Report:\")\n",
    "print(report)\n",
    "\n",
    "# Generate confusion matrix\n",
    "conf_mat = confusion_matrix(y_test, y_pred)\n",
    "\n",
    "# Plot confusion matrix\n",
    "plot_confusion_matrix(conf_mat, figsize=(8, 6), cmap=plt.cm.Blues)\n",
    "plt.title('Confusion Matrix')\n",
    "plt.xlabel('Predicted label')\n",
    "plt.ylabel('True label')\n",
    "plt.show()\n"
   ]
  },
  {
   "cell_type": "code",
   "execution_count": 37,
   "id": "d4b68b3a-2aa9-49b5-8437-2b51d5521c84",
   "metadata": {},
   "outputs": [
    {
     "name": "stdout",
     "output_type": "stream",
     "text": [
      "Text with positive sentiment:\n",
      "I have bought several of the Vitality canned dog food products and have found them all to be of good quality. The product looks more like a stew than a processed meat and it smells better. My Labrador is finicky and she appreciates this product better than  most.\n",
      "\n",
      "Text with negative sentiment:\n",
      "Product arrived labeled as Jumbo Salted Peanuts...the peanuts were actually small sized unsalted. Not sure if this was an error or if the vendor intended to represent the product as \"Jumbo\".\n",
      "\n",
      "Text with neutral sentiment:\n",
      "This seems a little more wholesome than some of the supermarket brands, but it is somewhat mushy and doesn't have quite as much flavor either.  It didn't pass muster with my kids, so I probably won't buy it again.\n"
     ]
    }
   ],
   "source": [
    "# Display one text with positive sentiment\n",
    "positive_text = df[df['Sentiment'] == 'Positive'].iloc[0]['Text']\n",
    "print(\"Text with positive sentiment:\")\n",
    "print(positive_text)\n",
    "\n",
    "# Display one text with negative sentiment\n",
    "negative_text = df[df['Sentiment'] == 'Negative'].iloc[0]['Text']\n",
    "print(\"\\nText with negative sentiment:\")\n",
    "print(negative_text)\n",
    "\n",
    "# Display one text with neutral sentiment\n",
    "neutral_text = df[df['Sentiment'] == 'Neutral'].iloc[0]['Text']\n",
    "print(\"\\nText with neutral sentiment:\")\n",
    "print(neutral_text)\n"
   ]
  },
  {
   "cell_type": "code",
   "execution_count": 41,
   "id": "7bf9bd36-832a-427d-b39b-6feaa1fcd0c3",
   "metadata": {},
   "outputs": [
    {
     "name": "stdout",
     "output_type": "stream",
     "text": [
      "Predicted label: ['Neutral']\n"
     ]
    }
   ],
   "source": [
    "import pandas as pd\n",
    "from sklearn.feature_extraction.text import TfidfVectorizer\n",
    "from sklearn.ensemble import RandomForestClassifier\n",
    "\n",
    "# Assuming you have loaded your DataFrame df and trained the classifier rf_classifier\n",
    "\n",
    "# Example text input\n",
    "text_input = \"This seems a little more wholesome than some of the supermarket brands, but it is somewhat mushy and doesn't have quite as much flavor either.  It didn't pass muster with my kids, so I probably won't buy it again.\"\n",
    "\n",
    "# Preprocess the text input\n",
    "X_new = tfidf_vectorizer.transform([text_input])\n",
    "\n",
    "# Use the trained classifier to make predictions\n",
    "predicted_label = rf_classifier.predict(X_new)\n",
    "\n",
    "print(\"Predicted label:\", predicted_label)\n"
   ]
  },
  {
   "cell_type": "markdown",
   "id": "fe520a4e-6a9d-425d-ac58-58cb58d2d12a",
   "metadata": {},
   "source": [
    "# Recommendation"
   ]
  },
  {
   "cell_type": "code",
   "execution_count": 28,
   "id": "30accd4a-0b03-44d2-856b-182b841714c5",
   "metadata": {},
   "outputs": [],
   "source": [
    "import pandas as pd\n",
    "df = pd.read_csv(r\"C:\\Users\\shubh\\Downloads\\archive (8)\\zomato_dataset.csv\")"
   ]
  },
  {
   "cell_type": "code",
   "execution_count": 29,
   "id": "d980dee3-f0af-46c8-a84c-65af25fe5159",
   "metadata": {},
   "outputs": [
    {
     "data": {
      "text/html": [
       "<div>\n",
       "<style scoped>\n",
       "    .dataframe tbody tr th:only-of-type {\n",
       "        vertical-align: middle;\n",
       "    }\n",
       "\n",
       "    .dataframe tbody tr th {\n",
       "        vertical-align: top;\n",
       "    }\n",
       "\n",
       "    .dataframe thead th {\n",
       "        text-align: right;\n",
       "    }\n",
       "</style>\n",
       "<table border=\"1\" class=\"dataframe\">\n",
       "  <thead>\n",
       "    <tr style=\"text-align: right;\">\n",
       "      <th></th>\n",
       "      <th>Restaurant Name</th>\n",
       "      <th>Rating</th>\n",
       "      <th>Cuisine</th>\n",
       "      <th>Average Price</th>\n",
       "      <th>Average Delivery Time</th>\n",
       "      <th>Safety Measure</th>\n",
       "      <th>Location</th>\n",
       "    </tr>\n",
       "  </thead>\n",
       "  <tbody>\n",
       "    <tr>\n",
       "      <th>0</th>\n",
       "      <td>Campus Bakers</td>\n",
       "      <td>4.3</td>\n",
       "      <td>Bakery, Fast Food, Pizza, Sandwich, Burger</td>\n",
       "      <td>₹50 for one</td>\n",
       "      <td>36 min</td>\n",
       "      <td>Restaurant partner follows WHO protocol</td>\n",
       "      <td>Agra</td>\n",
       "    </tr>\n",
       "    <tr>\n",
       "      <th>1</th>\n",
       "      <td>Mama Chicken Mama Franky House</td>\n",
       "      <td>4</td>\n",
       "      <td>North Indian, Mughlai, Rolls, Burger, Momos</td>\n",
       "      <td>₹50 for one</td>\n",
       "      <td>22 min</td>\n",
       "      <td>Follows all Max Safety measures to ensure your...</td>\n",
       "      <td>Agra</td>\n",
       "    </tr>\n",
       "    <tr>\n",
       "      <th>2</th>\n",
       "      <td>GMB - Gopika Sweets &amp; Restaurant</td>\n",
       "      <td>4.2</td>\n",
       "      <td>North Indian, South Indian, Chinese, Fast Food...</td>\n",
       "      <td>₹50 for one</td>\n",
       "      <td>27 min</td>\n",
       "      <td>Follows all Max Safety measures to ensure your...</td>\n",
       "      <td>Agra</td>\n",
       "    </tr>\n",
       "    <tr>\n",
       "      <th>3</th>\n",
       "      <td>Shree Bankey Bihari Misthan Bhandar</td>\n",
       "      <td>4.2</td>\n",
       "      <td>Mithai, Street Food, South Indian, Chinese, Ic...</td>\n",
       "      <td>₹50 for one</td>\n",
       "      <td>28 min</td>\n",
       "      <td>Restaurant partner follows WHO protocol</td>\n",
       "      <td>Agra</td>\n",
       "    </tr>\n",
       "    <tr>\n",
       "      <th>4</th>\n",
       "      <td>Burger King</td>\n",
       "      <td>4.2</td>\n",
       "      <td>Burger, Fast Food, Beverages</td>\n",
       "      <td>₹50 for one</td>\n",
       "      <td>26 min</td>\n",
       "      <td>Follows all Max Safety measures to ensure your...</td>\n",
       "      <td>Agra</td>\n",
       "    </tr>\n",
       "  </tbody>\n",
       "</table>\n",
       "</div>"
      ],
      "text/plain": [
       "                       Restaurant Name Rating  \\\n",
       "0                        Campus Bakers    4.3   \n",
       "1       Mama Chicken Mama Franky House      4   \n",
       "2     GMB - Gopika Sweets & Restaurant    4.2   \n",
       "3  Shree Bankey Bihari Misthan Bhandar    4.2   \n",
       "4                          Burger King    4.2   \n",
       "\n",
       "                                             Cuisine Average Price  \\\n",
       "0         Bakery, Fast Food, Pizza, Sandwich, Burger   ₹50 for one   \n",
       "1        North Indian, Mughlai, Rolls, Burger, Momos   ₹50 for one   \n",
       "2  North Indian, South Indian, Chinese, Fast Food...   ₹50 for one   \n",
       "3  Mithai, Street Food, South Indian, Chinese, Ic...   ₹50 for one   \n",
       "4                       Burger, Fast Food, Beverages   ₹50 for one   \n",
       "\n",
       "  Average Delivery Time                                     Safety Measure  \\\n",
       "0                36 min            Restaurant partner follows WHO protocol   \n",
       "1                22 min  Follows all Max Safety measures to ensure your...   \n",
       "2                27 min  Follows all Max Safety measures to ensure your...   \n",
       "3                28 min            Restaurant partner follows WHO protocol   \n",
       "4                26 min  Follows all Max Safety measures to ensure your...   \n",
       "\n",
       "  Location  \n",
       "0     Agra  \n",
       "1     Agra  \n",
       "2     Agra  \n",
       "3     Agra  \n",
       "4     Agra  "
      ]
     },
     "execution_count": 29,
     "metadata": {},
     "output_type": "execute_result"
    }
   ],
   "source": [
    "df.head()"
   ]
  },
  {
   "cell_type": "code",
   "execution_count": 30,
   "id": "f396851a-fb64-43f3-8cb8-31ceb0b9b12d",
   "metadata": {},
   "outputs": [
    {
     "data": {
      "text/plain": [
       "Restaurant Name          44891\n",
       "Rating                   44891\n",
       "Cuisine                  44872\n",
       "Average Price            44891\n",
       "Average Delivery Time    44891\n",
       "Safety Measure           44891\n",
       "Location                 44891\n",
       "dtype: int64"
      ]
     },
     "execution_count": 30,
     "metadata": {},
     "output_type": "execute_result"
    }
   ],
   "source": [
    "df.count()"
   ]
  },
  {
   "cell_type": "code",
   "execution_count": 97,
   "id": "3ea45679-02b2-4f49-bd2f-22797320bff8",
   "metadata": {},
   "outputs": [
    {
     "name": "stdout",
     "output_type": "stream",
     "text": [
      "['Agra' 'Ahmedabad' 'Ajmer' 'Alappuzha' 'Aligarh' 'Allahabad' 'Amravati'\n",
      " 'Amritsar' 'Asansol' 'Aurangabad' 'Bangalore' 'Bareilly' 'Belgaum'\n",
      " 'Bhavnagar' 'Bhopal' 'Bhubaneswar' 'Bikaner' 'Chandigarh' 'Chennai'\n",
      " 'Coimbatore' 'Cuttack' 'Darbhanga' 'Darjeeling' 'Dehradun' 'Delhi NCR'\n",
      " 'Dhanbad' 'Dharamshala' 'Durgapur' 'Firozabad' 'Gaya' 'Goa' 'Gonda'\n",
      " 'Gorakhpur' 'Guntur' 'Guwahati' 'Haridwar' 'Hyderabad' 'Indore'\n",
      " 'Jabalpur' 'Jaipur' 'Jalandhar' 'Jalgaon' 'Jammu' 'Jamnagar' 'Jamshedpur'\n",
      " 'Jhansi' 'Jodhpur' 'Junagadh' 'Kanpur' 'Kharagpur' 'Kolhapur' 'Kolkata'\n",
      " 'Kota' 'Lucknow' 'Ludhiana' 'Madurai' 'Manali' 'Mangalore' 'Manipal'\n",
      " 'Meerut' 'Moradabad' 'Motihari' 'Mumbai' 'Mussoorie' 'Mysore' 'Nagpur'\n",
      " 'Nainital' 'Nashik' 'NCR' 'Nellore' 'Palakkad' 'Patiala' 'Patna'\n",
      " 'Puducherry' 'Pune' 'Raipur' 'Rajkot' 'Ranchi' 'Rishikesh' 'Saharanpur'\n",
      " 'Salem' 'Sangli' 'Shimla' 'Siliguri' 'Solapur' 'Surat' 'Thrissur'\n",
      " 'Tirunelveli' 'Trichy' 'Trivandrum' 'Udaipur' 'Ujjain' 'Vadodara'\n",
      " 'Varanasi' 'Vellore' 'Vijayawada' 'Visakhapatnam' 'Warangal']\n",
      "Number of unique locations: 98\n"
     ]
    }
   ],
   "source": [
    "# Find unique elements in the \"location\" column\n",
    "unique_locations = df['Location'].unique()\n",
    "\n",
    "# Display the unique elements\n",
    "print(unique_locations)\n",
    "\n",
    "num_unique_locations = len(unique_locations)\n",
    "print(\"Number of unique locations:\", num_unique_locations)"
   ]
  },
  {
   "cell_type": "code",
   "execution_count": 27,
   "id": "f3136a54-09ee-4945-bfa4-8407c40fa9ec",
   "metadata": {},
   "outputs": [],
   "source": [
    "columns_to_drop = ['Safety Measure']\n",
    "\n",
    "df = df.drop(columns=columns_to_drop)"
   ]
  },
  {
   "cell_type": "code",
   "execution_count": 12,
   "id": "7d7a8afa-9e55-4534-b3f0-2513dd3b6c19",
   "metadata": {},
   "outputs": [
    {
     "data": {
      "text/html": [
       "<div>\n",
       "<style scoped>\n",
       "    .dataframe tbody tr th:only-of-type {\n",
       "        vertical-align: middle;\n",
       "    }\n",
       "\n",
       "    .dataframe tbody tr th {\n",
       "        vertical-align: top;\n",
       "    }\n",
       "\n",
       "    .dataframe thead th {\n",
       "        text-align: right;\n",
       "    }\n",
       "</style>\n",
       "<table border=\"1\" class=\"dataframe\">\n",
       "  <thead>\n",
       "    <tr style=\"text-align: right;\">\n",
       "      <th></th>\n",
       "      <th>Restaurant Name</th>\n",
       "      <th>Rating</th>\n",
       "      <th>Cuisine</th>\n",
       "      <th>Average Price</th>\n",
       "      <th>Average Delivery Time</th>\n",
       "      <th>Location</th>\n",
       "    </tr>\n",
       "  </thead>\n",
       "  <tbody>\n",
       "    <tr>\n",
       "      <th>0</th>\n",
       "      <td>Campus Bakers</td>\n",
       "      <td>4.3</td>\n",
       "      <td>Bakery, Fast Food, Pizza, Sandwich, Burger</td>\n",
       "      <td>₹50 for one</td>\n",
       "      <td>36 min</td>\n",
       "      <td>Agra</td>\n",
       "    </tr>\n",
       "    <tr>\n",
       "      <th>1</th>\n",
       "      <td>Mama Chicken Mama Franky House</td>\n",
       "      <td>4</td>\n",
       "      <td>North Indian, Mughlai, Rolls, Burger, Momos</td>\n",
       "      <td>₹50 for one</td>\n",
       "      <td>22 min</td>\n",
       "      <td>Agra</td>\n",
       "    </tr>\n",
       "    <tr>\n",
       "      <th>2</th>\n",
       "      <td>GMB - Gopika Sweets &amp; Restaurant</td>\n",
       "      <td>4.2</td>\n",
       "      <td>North Indian, South Indian, Chinese, Fast Food...</td>\n",
       "      <td>₹50 for one</td>\n",
       "      <td>27 min</td>\n",
       "      <td>Agra</td>\n",
       "    </tr>\n",
       "    <tr>\n",
       "      <th>3</th>\n",
       "      <td>Shree Bankey Bihari Misthan Bhandar</td>\n",
       "      <td>4.2</td>\n",
       "      <td>Mithai, Street Food, South Indian, Chinese, Ic...</td>\n",
       "      <td>₹50 for one</td>\n",
       "      <td>28 min</td>\n",
       "      <td>Agra</td>\n",
       "    </tr>\n",
       "    <tr>\n",
       "      <th>4</th>\n",
       "      <td>Burger King</td>\n",
       "      <td>4.2</td>\n",
       "      <td>Burger, Fast Food, Beverages</td>\n",
       "      <td>₹50 for one</td>\n",
       "      <td>26 min</td>\n",
       "      <td>Agra</td>\n",
       "    </tr>\n",
       "  </tbody>\n",
       "</table>\n",
       "</div>"
      ],
      "text/plain": [
       "                       Restaurant Name Rating  \\\n",
       "0                        Campus Bakers    4.3   \n",
       "1       Mama Chicken Mama Franky House      4   \n",
       "2     GMB - Gopika Sweets & Restaurant    4.2   \n",
       "3  Shree Bankey Bihari Misthan Bhandar    4.2   \n",
       "4                          Burger King    4.2   \n",
       "\n",
       "                                             Cuisine Average Price  \\\n",
       "0         Bakery, Fast Food, Pizza, Sandwich, Burger   ₹50 for one   \n",
       "1        North Indian, Mughlai, Rolls, Burger, Momos   ₹50 for one   \n",
       "2  North Indian, South Indian, Chinese, Fast Food...   ₹50 for one   \n",
       "3  Mithai, Street Food, South Indian, Chinese, Ic...   ₹50 for one   \n",
       "4                       Burger, Fast Food, Beverages   ₹50 for one   \n",
       "\n",
       "  Average Delivery Time Location  \n",
       "0                36 min     Agra  \n",
       "1                22 min     Agra  \n",
       "2                27 min     Agra  \n",
       "3                28 min     Agra  \n",
       "4                26 min     Agra  "
      ]
     },
     "execution_count": 12,
     "metadata": {},
     "output_type": "execute_result"
    }
   ],
   "source": [
    "df.head()"
   ]
  },
  {
   "cell_type": "code",
   "execution_count": 13,
   "id": "1db0f135-bcc8-4558-92fd-5c512bbf5b5b",
   "metadata": {},
   "outputs": [
    {
     "name": "stdout",
     "output_type": "stream",
     "text": [
      "Missing values before preprocessing:\n",
      "Restaurant Name           0\n",
      "Rating                    0\n",
      "Cuisine                  19\n",
      "Average Price             0\n",
      "Average Delivery Time     0\n",
      "Location                  0\n",
      "dtype: int64\n",
      "\n",
      "Dataset after preprocessing:\n",
      "                       Restaurant Name Rating  \\\n",
      "0                        Campus Bakers    4.3   \n",
      "1       Mama Chicken Mama Franky House      4   \n",
      "2     GMB - Gopika Sweets & Restaurant    4.2   \n",
      "3  Shree Bankey Bihari Misthan Bhandar    4.2   \n",
      "4                          Burger King    4.2   \n",
      "\n",
      "                                             Cuisine Average Price  \\\n",
      "0         bakery, fast food, pizza, sandwich, burger   ₹50 for one   \n",
      "1        north indian, mughlai, rolls, burger, momos   ₹50 for one   \n",
      "2  north indian, south indian, chinese, fast food...   ₹50 for one   \n",
      "3  mithai, street food, south indian, chinese, ic...   ₹50 for one   \n",
      "4                       burger, fast food, beverages   ₹50 for one   \n",
      "\n",
      "  Average Delivery Time Location  \n",
      "0                36 min     Agra  \n",
      "1                22 min     Agra  \n",
      "2                27 min     Agra  \n",
      "3                28 min     Agra  \n",
      "4                26 min     Agra  \n"
     ]
    }
   ],
   "source": [
    "# Check for missing values\n",
    "print(\"Missing values before preprocessing:\")\n",
    "print(df.isnull().sum())\n",
    "\n",
    "# Handle missing values (if any)\n",
    "# For simplicity, let's drop rows with missing values\n",
    "df.dropna(inplace=True)\n",
    "\n",
    "# Standardize text data (if needed)\n",
    "# For example, convert cuisine names to lowercase\n",
    "df['Cuisine'] = df['Cuisine'].str.lower()\n",
    "\n",
    "# Convert categorical variables into suitable format (if needed)\n",
    "# No categorical variables in the provided sample, but you might want to encode them if present\n",
    "\n",
    "# Check if preprocessing was successful\n",
    "print(\"\\nDataset after preprocessing:\")\n",
    "print(df.head())"
   ]
  },
  {
   "cell_type": "code",
   "execution_count": 16,
   "id": "2a5dee94-bcec-4814-92ee-33d30659860e",
   "metadata": {},
   "outputs": [
    {
     "name": "stderr",
     "output_type": "stream",
     "text": [
      "[nltk_data] Downloading package vader_lexicon to\n",
      "[nltk_data]     C:\\Users\\shubh\\AppData\\Roaming\\nltk_data...\n"
     ]
    },
    {
     "data": {
      "text/plain": [
       "True"
      ]
     },
     "execution_count": 16,
     "metadata": {},
     "output_type": "execute_result"
    }
   ],
   "source": [
    "import nltk\n",
    "nltk.download('vader_lexicon')"
   ]
  },
  {
   "cell_type": "code",
   "execution_count": 73,
   "id": "f3d81a0d-e31f-44fe-a207-c836329d4462",
   "metadata": {},
   "outputs": [],
   "source": [
    "from nltk.sentiment.vader import SentimentIntensityAnalyzer\n",
    "\n",
    "# Initialize the Vader sentiment analyzer\n",
    "sid = SentimentIntensityAnalyzer()\n",
    "\n",
    "# Define thresholds for positive, negative, and neutral ratings\n",
    "positive_threshold = 4.0\n",
    "negative_threshold = 3.0\n",
    "\n",
    "# Classify sentiment based on ratings\n",
    "if 'Rating' in df.columns:\n",
    "    # Calculate sentiment based on ratings\n",
    "    df['Sentiment'] = df['Rating'].apply(lambda x: 1 if x >= positive_threshold else (-1 if x <= negative_threshold else 0))\n",
    "    # Map sentiment labels\n",
    "    df['Sentiment_Label'] = df['Sentiment'].map({1: 'Positive', -1: 'Negative', 0: 'Neutral'})\n",
    "else:\n",
    "    print(\"No rating data found in the dataset.\")\n",
    "\n"
   ]
  },
  {
   "cell_type": "code",
   "execution_count": 74,
   "id": "7df568ca-ec58-4bd7-bb16-09f7a4f9c6d2",
   "metadata": {},
   "outputs": [
    {
     "data": {
      "text/html": [
       "<div>\n",
       "<style scoped>\n",
       "    .dataframe tbody tr th:only-of-type {\n",
       "        vertical-align: middle;\n",
       "    }\n",
       "\n",
       "    .dataframe tbody tr th {\n",
       "        vertical-align: top;\n",
       "    }\n",
       "\n",
       "    .dataframe thead th {\n",
       "        text-align: right;\n",
       "    }\n",
       "</style>\n",
       "<table border=\"1\" class=\"dataframe\">\n",
       "  <thead>\n",
       "    <tr style=\"text-align: right;\">\n",
       "      <th></th>\n",
       "      <th>Restaurant Name</th>\n",
       "      <th>Rating</th>\n",
       "      <th>Cuisine</th>\n",
       "      <th>Average Price</th>\n",
       "      <th>Average Delivery Time</th>\n",
       "      <th>Safety Measure</th>\n",
       "      <th>Location</th>\n",
       "      <th>Sentiment</th>\n",
       "      <th>Sentiment_Label</th>\n",
       "    </tr>\n",
       "  </thead>\n",
       "  <tbody>\n",
       "    <tr>\n",
       "      <th>0</th>\n",
       "      <td>Campus Bakers</td>\n",
       "      <td>4.3</td>\n",
       "      <td>Bakery, Fast Food, Pizza, Sandwich, Burger</td>\n",
       "      <td>₹50 for one</td>\n",
       "      <td>36 min</td>\n",
       "      <td>Restaurant partner follows WHO protocol</td>\n",
       "      <td>Agra</td>\n",
       "      <td>1</td>\n",
       "      <td>Positive</td>\n",
       "    </tr>\n",
       "    <tr>\n",
       "      <th>1</th>\n",
       "      <td>Mama Chicken Mama Franky House</td>\n",
       "      <td>4.0</td>\n",
       "      <td>North Indian, Mughlai, Rolls, Burger, Momos</td>\n",
       "      <td>₹50 for one</td>\n",
       "      <td>22 min</td>\n",
       "      <td>Follows all Max Safety measures to ensure your...</td>\n",
       "      <td>Agra</td>\n",
       "      <td>1</td>\n",
       "      <td>Positive</td>\n",
       "    </tr>\n",
       "    <tr>\n",
       "      <th>2</th>\n",
       "      <td>GMB - Gopika Sweets &amp; Restaurant</td>\n",
       "      <td>4.2</td>\n",
       "      <td>North Indian, South Indian, Chinese, Fast Food...</td>\n",
       "      <td>₹50 for one</td>\n",
       "      <td>27 min</td>\n",
       "      <td>Follows all Max Safety measures to ensure your...</td>\n",
       "      <td>Agra</td>\n",
       "      <td>1</td>\n",
       "      <td>Positive</td>\n",
       "    </tr>\n",
       "    <tr>\n",
       "      <th>3</th>\n",
       "      <td>Shree Bankey Bihari Misthan Bhandar</td>\n",
       "      <td>4.2</td>\n",
       "      <td>Mithai, Street Food, South Indian, Chinese, Ic...</td>\n",
       "      <td>₹50 for one</td>\n",
       "      <td>28 min</td>\n",
       "      <td>Restaurant partner follows WHO protocol</td>\n",
       "      <td>Agra</td>\n",
       "      <td>1</td>\n",
       "      <td>Positive</td>\n",
       "    </tr>\n",
       "    <tr>\n",
       "      <th>4</th>\n",
       "      <td>Burger King</td>\n",
       "      <td>4.2</td>\n",
       "      <td>Burger, Fast Food, Beverages</td>\n",
       "      <td>₹50 for one</td>\n",
       "      <td>26 min</td>\n",
       "      <td>Follows all Max Safety measures to ensure your...</td>\n",
       "      <td>Agra</td>\n",
       "      <td>1</td>\n",
       "      <td>Positive</td>\n",
       "    </tr>\n",
       "  </tbody>\n",
       "</table>\n",
       "</div>"
      ],
      "text/plain": [
       "                       Restaurant Name  Rating  \\\n",
       "0                        Campus Bakers     4.3   \n",
       "1       Mama Chicken Mama Franky House     4.0   \n",
       "2     GMB - Gopika Sweets & Restaurant     4.2   \n",
       "3  Shree Bankey Bihari Misthan Bhandar     4.2   \n",
       "4                          Burger King     4.2   \n",
       "\n",
       "                                             Cuisine Average Price  \\\n",
       "0         Bakery, Fast Food, Pizza, Sandwich, Burger   ₹50 for one   \n",
       "1        North Indian, Mughlai, Rolls, Burger, Momos   ₹50 for one   \n",
       "2  North Indian, South Indian, Chinese, Fast Food...   ₹50 for one   \n",
       "3  Mithai, Street Food, South Indian, Chinese, Ic...   ₹50 for one   \n",
       "4                       Burger, Fast Food, Beverages   ₹50 for one   \n",
       "\n",
       "  Average Delivery Time                                     Safety Measure  \\\n",
       "0                36 min            Restaurant partner follows WHO protocol   \n",
       "1                22 min  Follows all Max Safety measures to ensure your...   \n",
       "2                27 min  Follows all Max Safety measures to ensure your...   \n",
       "3                28 min            Restaurant partner follows WHO protocol   \n",
       "4                26 min  Follows all Max Safety measures to ensure your...   \n",
       "\n",
       "  Location  Sentiment Sentiment_Label  \n",
       "0     Agra          1        Positive  \n",
       "1     Agra          1        Positive  \n",
       "2     Agra          1        Positive  \n",
       "3     Agra          1        Positive  \n",
       "4     Agra          1        Positive  "
      ]
     },
     "execution_count": 74,
     "metadata": {},
     "output_type": "execute_result"
    }
   ],
   "source": [
    "df.head()"
   ]
  },
  {
   "cell_type": "code",
   "execution_count": 75,
   "id": "45371c2f-04f2-4987-8235-3b2da1d19364",
   "metadata": {},
   "outputs": [
    {
     "name": "stdout",
     "output_type": "stream",
     "text": [
      "Sentiment counts:\n",
      "Sentiment\n",
      " 0    23235\n",
      " 1    21022\n",
      "-1      634\n",
      "Name: count, dtype: int64\n",
      "\n",
      "Label counts:\n",
      "Sentiment_Label\n",
      "Neutral     23235\n",
      "Positive    21022\n",
      "Negative      634\n",
      "Name: count, dtype: int64\n"
     ]
    }
   ],
   "source": [
    "# Count sentiment values\n",
    "sentiment_counts = df['Sentiment'].value_counts()\n",
    "\n",
    "# Count label values\n",
    "label_counts = df['Sentiment_Label'].value_counts()\n",
    "\n",
    "print(\"Sentiment counts:\")\n",
    "print(sentiment_counts)\n",
    "print(\"\\nLabel counts:\")\n",
    "print(label_counts)\n"
   ]
  },
  {
   "cell_type": "code",
   "execution_count": 76,
   "id": "4c1adb96-21b5-4f3d-9fcf-651694bac532",
   "metadata": {},
   "outputs": [
    {
     "data": {
      "image/png": "[encoded data removed]",
      "text/plain": [
       "<Figure size 800x600 with 1 Axes>"
      ]
     },
     "metadata": {},
     "output_type": "display_data"
    },
    {
     "data": {
      "image/png": "[encoded data removed]",
      "text/plain": [
       "<Figure size 800x600 with 1 Axes>"
      ]
     },
     "metadata": {},
     "output_type": "display_data"
    }
   ],
   "source": [
    "import matplotlib.pyplot as plt\n",
    "\n",
    "# Plot sentiment counts\n",
    "plt.figure(figsize=(8, 6))\n",
    "plt.bar(sentiment_counts.index, sentiment_counts.values, color='skyblue')\n",
    "plt.title('Sentiment Distribution')\n",
    "plt.xlabel('Sentiment')\n",
    "plt.ylabel('Count')\n",
    "plt.show()\n",
    "\n",
    "# Plot label counts\n",
    "plt.figure(figsize=(8, 6))\n",
    "plt.bar(label_counts.index, label_counts.values, color='lightgreen')\n",
    "plt.title('Label Distribution')\n",
    "plt.xlabel('Label')\n",
    "plt.ylabel('Count')\n",
    "plt.show()\n"
   ]
  },
  {
   "cell_type": "code",
   "execution_count": 77,
   "id": "20a0828c-b2ae-4216-bf2a-fd1e2c4fc4d4",
   "metadata": {},
   "outputs": [
    {
     "name": "stdout",
     "output_type": "stream",
     "text": [
      "                       Restaurant Name  Rating Average Price Location  \\\n",
      "0                        Campus Bakers     4.3   ₹50 for one     Agra   \n",
      "1       Mama Chicken Mama Franky House     4.0   ₹50 for one     Agra   \n",
      "2     GMB - Gopika Sweets & Restaurant     4.2   ₹50 for one     Agra   \n",
      "3  Shree Bankey Bihari Misthan Bhandar     4.2   ₹50 for one     Agra   \n",
      "4                          Burger King     4.2   ₹50 for one     Agra   \n",
      "\n",
      "  Sentiment_Label  Afghan  Afghani  African  American  Andhra  ...  Sushi  \\\n",
      "0        Positive       0        0        0         0       0  ...      0   \n",
      "1        Positive       0        0        0         0       0  ...      0   \n",
      "2        Positive       0        0        0         0       0  ...      0   \n",
      "3        Positive       0        0        0         0       0  ...      0   \n",
      "4        Positive       0        0        0         0       0  ...      0   \n",
      "\n",
      "   Tamil  Tea  Tex-Mex  Thai  Tibetan  Turkish  Vietnamese  Waffle  Wraps  \n",
      "0      0    0        0     0        0        0           0       0      0  \n",
      "1      0    0        0     0        0        0           0       0      0  \n",
      "2      0    0        0     0        0        0           0       0      0  \n",
      "3      0    0        0     0        0        0           0       0      0  \n",
      "4      0    0        0     0        0        0           0       0      0  \n",
      "\n",
      "[5 rows x 132 columns]\n"
     ]
    }
   ],
   "source": [
    "# Extract relevant features\n",
    "features = df[['Restaurant Name', 'Cuisine', 'Rating', 'Average Price', 'Location','Sentiment_Label']]\n",
    "\n",
    "# Convert Cuisine column to one-hot encoding\n",
    "cuisine_dummies = features['Cuisine'].str.get_dummies(sep=', ')\n",
    "\n",
    "# Concatenate one-hot encoded cuisine types with other features\n",
    "features = pd.concat([features.drop('Cuisine', axis=1), cuisine_dummies], axis=1)\n",
    "\n",
    "# Display the updated features\n",
    "print(features.head())"
   ]
  },
  {
   "cell_type": "code",
   "execution_count": 78,
   "id": "2f427e77-f89b-4408-b3e1-ea07c1b1b85e",
   "metadata": {},
   "outputs": [
    {
     "name": "stdout",
     "output_type": "stream",
     "text": [
      "Unique Cuisine Types: {'', 'Sri Lankan', 'Assamese', 'Pancake', 'Bengali', 'Bangladeshi', 'Finger Food', 'Tea', 'Maharashtrian', 'Mughlai', 'Kashmiri', 'Biryani', 'Mediterranean', 'German', 'Hot dogs', 'Bohri', 'Brazilian', 'Beverages,', 'Mishti', 'Seafood', 'Bar Food', 'Kathiyawadi', 'Malwani', 'Greek', 'Hyderabadi', 'Arabian', 'Drinks Only', 'Rajasthani', 'Odia', 'Lebanese', 'Cafe', 'Street Food', 'Pasta', 'Tibetan', 'Turkish', 'Middle Eastern', 'Fast Food', 'North Eastern', 'Shake', 'Steak', 'Pizza', 'Juices', 'Chettinad', 'Continental', 'Bakery', 'Mithai', 'Kebab', 'Burmese', 'Desserts,', 'American', 'South Indian', 'Sandwich', 'Vietnamese', 'Paan', 'Cantonese', 'Andhra', 'Kerala', 'Spanish', 'Garhwali', 'Wraps', 'Healthy Food', 'Nepalese', 'Desserts', 'Korean', 'Japanese', 'Parsi', 'Cake', 'Indian', 'Bihari', 'Tex-Mex', 'Burger', 'Modern Indian', 'Waffle', 'Chinese', 'Afghani', 'Italian', 'Shawarma', 'Iranian', 'Konkan', 'French', 'Moroccan', 'Malaysian', 'Sindhi', 'African', 'Manipuri', 'Poké', 'Thai', 'Panini', 'Afghan', 'Himachali', 'Rolls', 'Gujarati', 'Salad', 'Russian', 'Roast Chicken', 'Singaporean', 'Coffee', 'Bubble Tea', 'Awadhi', 'Raw Meats', 'Tamil', 'Sichuan', 'Momos', 'Sushi', 'Indonesian', 'Egyptian', 'Bakery,', 'Charcoal Chicken', 'Belgian', 'North Indian', 'European', 'Mandi', 'Mongolian', 'Frozen Yogurt', 'Mangalorean', 'Portuguese', 'Grilled Chicken', 'BBQ', 'Beverages', 'Saoji', 'Goan', 'Lucknowi', 'Oriental', 'Naga', 'Mexican', 'Asian', 'Cuisine Varies', 'Ice Cream'}\n"
     ]
    }
   ],
   "source": [
    "# Extract cuisine types\n",
    "cuisine_types = df['Cuisine'].str.split(', ')\n",
    "\n",
    "# Print unique cuisine types\n",
    "unique_cuisine_types = set(cuisine for cuisines in cuisine_types.dropna() for cuisine in cuisines)\n",
    "print(\"Unique Cuisine Types:\", unique_cuisine_types)"
   ]
  },
  {
   "cell_type": "code",
   "execution_count": 79,
   "id": "7017b75c-0b0d-4c66-a573-57e7d96efdee",
   "metadata": {},
   "outputs": [
    {
     "name": "stdout",
     "output_type": "stream",
     "text": [
      "Top 5 recommended restaurants:\n",
      "                       Restaurant Name  Rating Average Price   Location\n",
      "32964                    Rasoi Ghar Se     4.9  ₹100 for one   Palakkad\n",
      "1918   JFC - Jagjeet Foods & Ice Cream     4.7  ₹200 for one    Aligarh\n",
      "39164        Shree Sai Krupa Fast Food     4.7  ₹200 for one      Surat\n",
      "23579                        Coffichat     4.6  ₹200 for one    Kolkata\n",
      "4106                     Maven Kitchen     4.6  ₹100 for one  Bangalore\n"
     ]
    }
   ],
   "source": [
    "import pandas as pd\n",
    "\n",
    "# Sample user preferences for cuisine types (you can replace this with actual user preferences)\n",
    "user_preferences = ['Italian', 'Mexican', 'Chinese']\n",
    "\n",
    "# Filter restaurants based on user preferences for cuisine types\n",
    "preferred_restaurants = features[features[user_preferences].any(axis=1)]\n",
    "a\n",
    "# Sort preferred restaurants by average rating (assuming 'Rating' is the column name)\n",
    "preferred_restaurants = preferred_restaurants.sort_values(by='Rating', ascending=False)\n",
    "a\n",
    "# Recommend top 5 restaurants to the user\n",
    "top_recommendations = preferred_restaurants.head(5)\n",
    "\n",
    "print(\"Top 5 recommended restaurants:\")\n",
    "print(top_recommendations[['Restaurant Name', 'Rating', 'Average Price', 'Location']])\n"
   ]
  },
  {
   "cell_type": "code",
   "execution_count": 88,
   "id": "0af4bc32-8dc8-40f0-afd0-fc677c1004c6",
   "metadata": {},
   "outputs": [
    {
     "name": "stdout",
     "output_type": "stream",
     "text": [
      "Top 5 recommended restaurants in Pune :\n",
      "                           Restaurant Name  Rating Average Price Location\n",
      "34871  Govinda's Snacks Centre Camp ISKCON     4.6  ₹150 for one     Pune\n",
      "34999                       Mainland China     4.5  ₹150 for one     Pune\n",
      "35198             Kalinga Restaurant & Bar     4.5   ₹50 for one     Pune\n",
      "34911  LeanCrust Pizza - ThinCrust Experts     4.5  ₹150 for one     Pune\n",
      "35270                    Vakrantunda Modak     4.5  ₹100 for one     Pune\n"
     ]
    }
   ],
   "source": [
    "import pandas as pd\n",
    "\n",
    "# Sample user preferences for cuisine types (you can replace this with actual user preferences)\n",
    "user_preferences = ['Italian', 'Mexican', 'Chinese']\n",
    "\n",
    "# Specify the city\n",
    "city = 'Pune'  # Replace 'Agra' with the desired city\n",
    "\n",
    "# Filter restaurants based on user preferences for cuisine types and city\n",
    "preferred_restaurants = features[(features[user_preferences].any(axis=1)) & (features['Location'] == city)]\n",
    "\n",
    "# Sort preferred restaurants by average rating (assuming 'Rating' is the column name)\n",
    "preferred_restaurants = preferred_restaurants.sort_values(by='Rating', ascending=False)\n",
    "\n",
    "# Recommend top 5 restaurants to the user\n",
    "top_recommendations = preferred_restaurants.head(5)\n",
    "\n",
    "print(\"Top 5 recommended restaurants in\", city, \":\")\n",
    "print(top_recommendations[['Restaurant Name', 'Rating', 'Average Price', 'Location']])\n"
   ]
  },
  {
   "cell_type": "code",
   "execution_count": 89,
   "id": "bd9ec3d6-5300-44a2-8b16-a0d4b454c0c6",
   "metadata": {},
   "outputs": [
    {
     "name": "stdout",
     "output_type": "stream",
     "text": [
      "Top 5 recommended restaurants with positive sentiment:\n",
      "          Restaurant Name  Rating Average Price Location\n",
      "35053  The Galaxy Chinese     3.0  ₹300 for one     Pune\n"
     ]
    }
   ],
   "source": [
    "# Integrate sentiment analysis into recommendation system\n",
    "# Assuming sentiment analysis results are available in the 'Sentiment_Label' column\n",
    "\n",
    "# Filter preferred restaurants based on user preferences and positive sentiment\n",
    "preferred_restaurants = preferred_restaurants[preferred_restaurants['Sentiment_Label'] == 'Negative']\n",
    "\n",
    "# Sort preferred restaurants by average rating\n",
    "preferred_restaurants = preferred_restaurants.sort_values(by='Rating', ascending=False)\n",
    "\n",
    "# Recommend top 5 restaurants to the user\n",
    "top_recommendations = preferred_restaurants.head(5)\n",
    "\n",
    "print(\"Top 5 recommended restaurants with positive sentiment:\")\n",
    "print(top_recommendations[['Restaurant Name', 'Rating', 'Average Price', 'Location']])\n"
   ]
  },
  {
   "cell_type": "code",
   "execution_count": 90,
   "id": "7e583f91-addf-4da9-9b5c-632e4c4ad07a",
   "metadata": {},
   "outputs": [],
   "source": [
    "# Save the updated features DataFrame to a CSV file\n",
    "features.to_csv(\"updated_features.csv\", index=False)\n"
   ]
  },
  {
   "cell_type": "code",
   "execution_count": 91,
   "id": "0a645d24-22ec-4bcf-accf-b4e46204630e",
   "metadata": {},
   "outputs": [],
   "source": [
    "final_csv = pd.read_csv(\"updated_features.csv\")"
   ]
  },
  {
   "cell_type": "code",
   "execution_count": 92,
   "id": "0a33b9aa-8566-4afe-8496-f2cce63643b5",
   "metadata": {},
   "outputs": [
    {
     "data": {
      "text/html": [
       "<div>\n",
       "<style scoped>\n",
       "    .dataframe tbody tr th:only-of-type {\n",
       "        vertical-align: middle;\n",
       "    }\n",
       "\n",
       "    .dataframe tbody tr th {\n",
       "        vertical-align: top;\n",
       "    }\n",
       "\n",
       "    .dataframe thead th {\n",
       "        text-align: right;\n",
       "    }\n",
       "</style>\n",
       "<table border=\"1\" class=\"dataframe\">\n",
       "  <thead>\n",
       "    <tr style=\"text-align: right;\">\n",
       "      <th></th>\n",
       "      <th>Restaurant Name</th>\n",
       "      <th>Rating</th>\n",
       "      <th>Average Price</th>\n",
       "      <th>Location</th>\n",
       "      <th>Sentiment_Label</th>\n",
       "      <th>Afghan</th>\n",
       "      <th>Afghani</th>\n",
       "      <th>African</th>\n",
       "      <th>American</th>\n",
       "      <th>Andhra</th>\n",
       "      <th>...</th>\n",
       "      <th>Sushi</th>\n",
       "      <th>Tamil</th>\n",
       "      <th>Tea</th>\n",
       "      <th>Tex-Mex</th>\n",
       "      <th>Thai</th>\n",
       "      <th>Tibetan</th>\n",
       "      <th>Turkish</th>\n",
       "      <th>Vietnamese</th>\n",
       "      <th>Waffle</th>\n",
       "      <th>Wraps</th>\n",
       "    </tr>\n",
       "  </thead>\n",
       "  <tbody>\n",
       "    <tr>\n",
       "      <th>0</th>\n",
       "      <td>Campus Bakers</td>\n",
       "      <td>4.3</td>\n",
       "      <td>₹50 for one</td>\n",
       "      <td>Agra</td>\n",
       "      <td>Positive</td>\n",
       "      <td>0</td>\n",
       "      <td>0</td>\n",
       "      <td>0</td>\n",
       "      <td>0</td>\n",
       "      <td>0</td>\n",
       "      <td>...</td>\n",
       "      <td>0</td>\n",
       "      <td>0</td>\n",
       "      <td>0</td>\n",
       "      <td>0</td>\n",
       "      <td>0</td>\n",
       "      <td>0</td>\n",
       "      <td>0</td>\n",
       "      <td>0</td>\n",
       "      <td>0</td>\n",
       "      <td>0</td>\n",
       "    </tr>\n",
       "    <tr>\n",
       "      <th>1</th>\n",
       "      <td>Mama Chicken Mama Franky House</td>\n",
       "      <td>4.0</td>\n",
       "      <td>₹50 for one</td>\n",
       "      <td>Agra</td>\n",
       "      <td>Positive</td>\n",
       "      <td>0</td>\n",
       "      <td>0</td>\n",
       "      <td>0</td>\n",
       "      <td>0</td>\n",
       "      <td>0</td>\n",
       "      <td>...</td>\n",
       "      <td>0</td>\n",
       "      <td>0</td>\n",
       "      <td>0</td>\n",
       "      <td>0</td>\n",
       "      <td>0</td>\n",
       "      <td>0</td>\n",
       "      <td>0</td>\n",
       "      <td>0</td>\n",
       "      <td>0</td>\n",
       "      <td>0</td>\n",
       "    </tr>\n",
       "    <tr>\n",
       "      <th>2</th>\n",
       "      <td>GMB - Gopika Sweets &amp; Restaurant</td>\n",
       "      <td>4.2</td>\n",
       "      <td>₹50 for one</td>\n",
       "      <td>Agra</td>\n",
       "      <td>Positive</td>\n",
       "      <td>0</td>\n",
       "      <td>0</td>\n",
       "      <td>0</td>\n",
       "      <td>0</td>\n",
       "      <td>0</td>\n",
       "      <td>...</td>\n",
       "      <td>0</td>\n",
       "      <td>0</td>\n",
       "      <td>0</td>\n",
       "      <td>0</td>\n",
       "      <td>0</td>\n",
       "      <td>0</td>\n",
       "      <td>0</td>\n",
       "      <td>0</td>\n",
       "      <td>0</td>\n",
       "      <td>0</td>\n",
       "    </tr>\n",
       "    <tr>\n",
       "      <th>3</th>\n",
       "      <td>Shree Bankey Bihari Misthan Bhandar</td>\n",
       "      <td>4.2</td>\n",
       "      <td>₹50 for one</td>\n",
       "      <td>Agra</td>\n",
       "      <td>Positive</td>\n",
       "      <td>0</td>\n",
       "      <td>0</td>\n",
       "      <td>0</td>\n",
       "      <td>0</td>\n",
       "      <td>0</td>\n",
       "      <td>...</td>\n",
       "      <td>0</td>\n",
       "      <td>0</td>\n",
       "      <td>0</td>\n",
       "      <td>0</td>\n",
       "      <td>0</td>\n",
       "      <td>0</td>\n",
       "      <td>0</td>\n",
       "      <td>0</td>\n",
       "      <td>0</td>\n",
       "      <td>0</td>\n",
       "    </tr>\n",
       "    <tr>\n",
       "      <th>4</th>\n",
       "      <td>Burger King</td>\n",
       "      <td>4.2</td>\n",
       "      <td>₹50 for one</td>\n",
       "      <td>Agra</td>\n",
       "      <td>Positive</td>\n",
       "      <td>0</td>\n",
       "      <td>0</td>\n",
       "      <td>0</td>\n",
       "      <td>0</td>\n",
       "      <td>0</td>\n",
       "      <td>...</td>\n",
       "      <td>0</td>\n",
       "      <td>0</td>\n",
       "      <td>0</td>\n",
       "      <td>0</td>\n",
       "      <td>0</td>\n",
       "      <td>0</td>\n",
       "      <td>0</td>\n",
       "      <td>0</td>\n",
       "      <td>0</td>\n",
       "      <td>0</td>\n",
       "    </tr>\n",
       "  </tbody>\n",
       "</table>\n",
       "<p>5 rows × 132 columns</p>\n",
       "</div>"
      ],
      "text/plain": [
       "                       Restaurant Name  Rating Average Price Location  \\\n",
       "0                        Campus Bakers     4.3   ₹50 for one     Agra   \n",
       "1       Mama Chicken Mama Franky House     4.0   ₹50 for one     Agra   \n",
       "2     GMB - Gopika Sweets & Restaurant     4.2   ₹50 for one     Agra   \n",
       "3  Shree Bankey Bihari Misthan Bhandar     4.2   ₹50 for one     Agra   \n",
       "4                          Burger King     4.2   ₹50 for one     Agra   \n",
       "\n",
       "  Sentiment_Label  Afghan  Afghani  African  American  Andhra  ...  Sushi  \\\n",
       "0        Positive       0        0        0         0       0  ...      0   \n",
       "1        Positive       0        0        0         0       0  ...      0   \n",
       "2        Positive       0        0        0         0       0  ...      0   \n",
       "3        Positive       0        0        0         0       0  ...      0   \n",
       "4        Positive       0        0        0         0       0  ...      0   \n",
       "\n",
       "   Tamil  Tea  Tex-Mex  Thai  Tibetan  Turkish  Vietnamese  Waffle  Wraps  \n",
       "0      0    0        0     0        0        0           0       0      0  \n",
       "1      0    0        0     0        0        0           0       0      0  \n",
       "2      0    0        0     0        0        0           0       0      0  \n",
       "3      0    0        0     0        0        0           0       0      0  \n",
       "4      0    0        0     0        0        0           0       0      0  \n",
       "\n",
       "[5 rows x 132 columns]"
      ]
     },
     "execution_count": 92,
     "metadata": {},
     "output_type": "execute_result"
    }
   ],
   "source": [
    "final_csv.head()"
   ]
  },
  {
   "cell_type": "code",
   "execution_count": null,
   "id": "3ca0e33b-bd2e-4841-ab81-c6d5e6d4c176",
   "metadata": {},
   "outputs": [],
   "source": []
  }
 ],
 "metadata": {
  "kernelspec": {
   "display_name": "Python 3 (ipykernel)",
   "language": "python",
   "name": "python3"
  },
  "language_info": {
   "codemirror_mode": {
    "name": "ipython",
    "version": 3
   },
   "file_extension": ".py",
   "mimetype": "text/x-python",
   "name": "python",
   "nbconvert_exporter": "python",
   "pygments_lexer": "ipython3",
   "version": "3.11.8"
  }
 },
 "nbformat": 4,
 "nbformat_minor": 5
}
